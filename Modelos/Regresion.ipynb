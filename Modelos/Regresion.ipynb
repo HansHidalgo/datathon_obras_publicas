{
 "cells": [
  {
   "cell_type": "code",
   "execution_count": 1,
   "metadata": {},
   "outputs": [],
   "source": [
    "import pandas as pd\n",
    "import numpy as np\n",
    "from sklearn.model_selection import train_test_split\n",
    "from sklearn import linear_model\n",
    "from sklearn.metrics import mean_squared_error, r2_score\n",
    "from sklearn.preprocessing import StandardScaler\n",
    "\n",
    "from sklearn.metrics import mean_squared_error,mean_absolute_error,r2_score\n",
    "import math\n",
    "import xgboost as xgb\n",
    "import matplotlib.pyplot as plt"
   ]
  },
  {
   "cell_type": "code",
   "execution_count": 2,
   "metadata": {},
   "outputs": [],
   "source": [
    "#df_contratos =pd.read_csv('Matriz_contratos.txt', delimiter = '\\t') "
   ]
  },
  {
   "cell_type": "code",
   "execution_count": 3,
   "metadata": {},
   "outputs": [],
   "source": [
    "#df_CUI_contratos =pd.read_csv('Matriz_relacion_CUI_contratos.csv', delimiter = ',') "
   ]
  },
  {
   "cell_type": "code",
   "execution_count": 22,
   "metadata": {},
   "outputs": [],
   "source": [
    "df= pd.read_csv('Matriz_infobra_unicos.txt', delimiter = '|')"
   ]
  },
  {
   "cell_type": "code",
   "execution_count": 85,
   "metadata": {},
   "outputs": [],
   "source": [
    "df_cluster = pd.read_csv('Cluster.txt', delimiter = '|')"
   ]
  },
  {
   "cell_type": "code",
   "execution_count": 23,
   "metadata": {},
   "outputs": [],
   "source": [
    "df = df[~df.isin([np.nan, np.inf, -np.inf]) ].copy()\n",
    "df.fillna(0, inplace = True)"
   ]
  },
  {
   "cell_type": "code",
   "execution_count": 24,
   "metadata": {},
   "outputs": [],
   "source": [
    "df.loc[~df['COPA_DESCRI'].isin(['Adm. Directa','Por Contrata']),'COPA_DESCRI'] = 'Otros'"
   ]
  },
  {
   "cell_type": "code",
   "execution_count": 25,
   "metadata": {},
   "outputs": [],
   "source": [
    "df.loc[df['RUBRO'].isin(['ENERGÍA Y MINAS','ORDEN PÚBLICO/DEFENSA Y SEGURIDAD','PROTECCIÓN/READAPTACIÓN SOCIAL','SALUD']),'RUBRO'] = 'Otros'"
   ]
  },
  {
   "cell_type": "code",
   "execution_count": 26,
   "metadata": {},
   "outputs": [],
   "source": [
    "df = df[df.CDPT_DPTO.isin(('CUSCO','PIURA','LAMBAYEQUE','LORETO','LIMA'))].copy()"
   ]
  },
  {
   "cell_type": "code",
   "execution_count": 27,
   "metadata": {},
   "outputs": [],
   "source": [
    "df = pd.get_dummies(data=df, columns=['CDPT_DPTO','COPA_DESCRI','RUBRO','TIPO_FORMATO'])"
   ]
  },
  {
   "cell_type": "code",
   "execution_count": 28,
   "metadata": {},
   "outputs": [
    {
     "data": {
      "text/html": [
       "<div>\n",
       "<style scoped>\n",
       "    .dataframe tbody tr th:only-of-type {\n",
       "        vertical-align: middle;\n",
       "    }\n",
       "\n",
       "    .dataframe tbody tr th {\n",
       "        vertical-align: top;\n",
       "    }\n",
       "\n",
       "    .dataframe thead th {\n",
       "        text-align: right;\n",
       "    }\n",
       "</style>\n",
       "<table border=\"1\" class=\"dataframe\">\n",
       "  <thead>\n",
       "    <tr style=\"text-align: right;\">\n",
       "      <th></th>\n",
       "      <th>NOBR_ID</th>\n",
       "      <th>COBR_DESCRI</th>\n",
       "      <th>CODCONSUCODE</th>\n",
       "      <th>COBR_DIRECCION</th>\n",
       "      <th>NOBR_TIPEJE</th>\n",
       "      <th>CODCONSUCODE_DESCRI</th>\n",
       "      <th>COBR_NOMBRERESIDENTE</th>\n",
       "      <th>COBR_DNIRESIDENTE</th>\n",
       "      <th>DOBR_FEC_INI_OBRA</th>\n",
       "      <th>NOBR_CODSNIP</th>\n",
       "      <th>...</th>\n",
       "      <th>RUBRO_AGRICULTURA</th>\n",
       "      <th>RUBRO_EDUCACIÓN/CULTURA</th>\n",
       "      <th>RUBRO_OTRAS INFRAESTRUCTURAS</th>\n",
       "      <th>RUBRO_Otros</th>\n",
       "      <th>RUBRO_TRANSPORTES Y COMUNICACIONES</th>\n",
       "      <th>RUBRO_VIVIENDA, CONSTRUCCIÓN Y SANEAMIENTO</th>\n",
       "      <th>TIPO_FORMATO_0</th>\n",
       "      <th>TIPO_FORMATO_FUR</th>\n",
       "      <th>TIPO_FORMATO_IOARR</th>\n",
       "      <th>TIPO_FORMATO_PROYECTO DE INVERSION</th>\n",
       "    </tr>\n",
       "  </thead>\n",
       "  <tbody>\n",
       "    <tr>\n",
       "      <th>0</th>\n",
       "      <td>47664</td>\n",
       "      <td>CONTRATACIÓN DE LA FIRMA CONTRATISTA QUE EJECU...</td>\n",
       "      <td>661</td>\n",
       "      <td>El Tramo I del proyecto se inicia en Bellavist...</td>\n",
       "      <td>202</td>\n",
       "      <td>MTC-PROYECTO ESPECIAL DE INFRAESTRUCTURA DE TR...</td>\n",
       "      <td>AUGUSTO ALEJANDRO. LLUEN FLORES</td>\n",
       "      <td>D.N.I: 06261463</td>\n",
       "      <td>/Date(1511499600000)/</td>\n",
       "      <td>396</td>\n",
       "      <td>...</td>\n",
       "      <td>0</td>\n",
       "      <td>0</td>\n",
       "      <td>0</td>\n",
       "      <td>0</td>\n",
       "      <td>1</td>\n",
       "      <td>0</td>\n",
       "      <td>0</td>\n",
       "      <td>0</td>\n",
       "      <td>0</td>\n",
       "      <td>1</td>\n",
       "    </tr>\n",
       "    <tr>\n",
       "      <th>1</th>\n",
       "      <td>159977</td>\n",
       "      <td>CONSTRUCCION DE DISPOSITIVO DE CONTROL DE TRAN...</td>\n",
       "      <td>4382</td>\n",
       "      <td>MARGEN IZQUIERDO DEL RIO CORRIENTES</td>\n",
       "      <td>207</td>\n",
       "      <td>FONDO DE COOPERACION PARA EL DESARROLLO SOCIAL</td>\n",
       "      <td>0</td>\n",
       "      <td>0</td>\n",
       "      <td>/Date(1636952400000)/</td>\n",
       "      <td>2506945</td>\n",
       "      <td>...</td>\n",
       "      <td>0</td>\n",
       "      <td>0</td>\n",
       "      <td>0</td>\n",
       "      <td>0</td>\n",
       "      <td>1</td>\n",
       "      <td>0</td>\n",
       "      <td>0</td>\n",
       "      <td>0</td>\n",
       "      <td>1</td>\n",
       "      <td>0</td>\n",
       "    </tr>\n",
       "    <tr>\n",
       "      <th>2</th>\n",
       "      <td>13</td>\n",
       "      <td>CONSTRUCCIÓN Y EQUIPAMIENTO DEL LOCAL PARA SED...</td>\n",
       "      <td>282</td>\n",
       "      <td>Calle dos de mayo N°1067 , esquina con Calle A...</td>\n",
       "      <td>202</td>\n",
       "      <td>MINISTERIO DEL INTERIOR - PNP UE 001 OGA</td>\n",
       "      <td>ROSENDO DEL CARMEN. VASQUEZ TALAVERA</td>\n",
       "      <td>D.N.I: 10614586</td>\n",
       "      <td>/Date(1335243600000)/</td>\n",
       "      <td>3316</td>\n",
       "      <td>...</td>\n",
       "      <td>0</td>\n",
       "      <td>0</td>\n",
       "      <td>0</td>\n",
       "      <td>0</td>\n",
       "      <td>0</td>\n",
       "      <td>1</td>\n",
       "      <td>0</td>\n",
       "      <td>0</td>\n",
       "      <td>0</td>\n",
       "      <td>1</td>\n",
       "    </tr>\n",
       "    <tr>\n",
       "      <th>3</th>\n",
       "      <td>40887</td>\n",
       "      <td>MEJORAMIENTO DEL CEPM N° 64194 CONTAMANA, PROV...</td>\n",
       "      <td>4445</td>\n",
       "      <td>CONTAMANA</td>\n",
       "      <td>202</td>\n",
       "      <td>GOBIERNO REGIONAL DE LORETO - GERENCIA SUB REG...</td>\n",
       "      <td>0</td>\n",
       "      <td>0</td>\n",
       "      <td>/Date(1445922000000)/</td>\n",
       "      <td>7034</td>\n",
       "      <td>...</td>\n",
       "      <td>0</td>\n",
       "      <td>0</td>\n",
       "      <td>1</td>\n",
       "      <td>0</td>\n",
       "      <td>0</td>\n",
       "      <td>0</td>\n",
       "      <td>0</td>\n",
       "      <td>0</td>\n",
       "      <td>0</td>\n",
       "      <td>1</td>\n",
       "    </tr>\n",
       "    <tr>\n",
       "      <th>4</th>\n",
       "      <td>41295</td>\n",
       "      <td>REMODELACION Y EQUIPAMIENTO DEL PUESTO DE SALU...</td>\n",
       "      <td>5345</td>\n",
       "      <td>SANTA TERESA - RIO YAVARI</td>\n",
       "      <td>202</td>\n",
       "      <td>GOBIERNO REGIONAL DE LORETO SEDE CENTRAL</td>\n",
       "      <td>ROGER AUGUSTO. RODRIGUEZ GUERRA</td>\n",
       "      <td>D.N.I: 01110455</td>\n",
       "      <td>/Date(1401858000000)/</td>\n",
       "      <td>1445</td>\n",
       "      <td>...</td>\n",
       "      <td>0</td>\n",
       "      <td>0</td>\n",
       "      <td>0</td>\n",
       "      <td>1</td>\n",
       "      <td>0</td>\n",
       "      <td>0</td>\n",
       "      <td>0</td>\n",
       "      <td>0</td>\n",
       "      <td>0</td>\n",
       "      <td>1</td>\n",
       "    </tr>\n",
       "  </tbody>\n",
       "</table>\n",
       "<p>5 rows × 108 columns</p>\n",
       "</div>"
      ],
      "text/plain": [
       "   NOBR_ID                                        COBR_DESCRI  CODCONSUCODE  \\\n",
       "0    47664  CONTRATACIÓN DE LA FIRMA CONTRATISTA QUE EJECU...           661   \n",
       "1   159977  CONSTRUCCION DE DISPOSITIVO DE CONTROL DE TRAN...          4382   \n",
       "2       13  CONSTRUCCIÓN Y EQUIPAMIENTO DEL LOCAL PARA SED...           282   \n",
       "3    40887  MEJORAMIENTO DEL CEPM N° 64194 CONTAMANA, PROV...          4445   \n",
       "4    41295  REMODELACION Y EQUIPAMIENTO DEL PUESTO DE SALU...          5345   \n",
       "\n",
       "                                      COBR_DIRECCION  NOBR_TIPEJE  \\\n",
       "0  El Tramo I del proyecto se inicia en Bellavist...          202   \n",
       "1                MARGEN IZQUIERDO DEL RIO CORRIENTES          207   \n",
       "2  Calle dos de mayo N°1067 , esquina con Calle A...          202   \n",
       "3                                          CONTAMANA          202   \n",
       "4                          SANTA TERESA - RIO YAVARI          202   \n",
       "\n",
       "                                 CODCONSUCODE_DESCRI  \\\n",
       "0  MTC-PROYECTO ESPECIAL DE INFRAESTRUCTURA DE TR...   \n",
       "1     FONDO DE COOPERACION PARA EL DESARROLLO SOCIAL   \n",
       "2           MINISTERIO DEL INTERIOR - PNP UE 001 OGA   \n",
       "3  GOBIERNO REGIONAL DE LORETO - GERENCIA SUB REG...   \n",
       "4           GOBIERNO REGIONAL DE LORETO SEDE CENTRAL   \n",
       "\n",
       "                   COBR_NOMBRERESIDENTE COBR_DNIRESIDENTE  \\\n",
       "0       AUGUSTO ALEJANDRO. LLUEN FLORES   D.N.I: 06261463   \n",
       "1                                     0                 0   \n",
       "2  ROSENDO DEL CARMEN. VASQUEZ TALAVERA   D.N.I: 10614586   \n",
       "3                                     0                 0   \n",
       "4       ROGER AUGUSTO. RODRIGUEZ GUERRA   D.N.I: 01110455   \n",
       "\n",
       "       DOBR_FEC_INI_OBRA  NOBR_CODSNIP  ... RUBRO_AGRICULTURA  \\\n",
       "0  /Date(1511499600000)/           396  ...                 0   \n",
       "1  /Date(1636952400000)/       2506945  ...                 0   \n",
       "2  /Date(1335243600000)/          3316  ...                 0   \n",
       "3  /Date(1445922000000)/          7034  ...                 0   \n",
       "4  /Date(1401858000000)/          1445  ...                 0   \n",
       "\n",
       "   RUBRO_EDUCACIÓN/CULTURA RUBRO_OTRAS INFRAESTRUCTURAS  RUBRO_Otros  \\\n",
       "0                        0                            0            0   \n",
       "1                        0                            0            0   \n",
       "2                        0                            0            0   \n",
       "3                        0                            1            0   \n",
       "4                        0                            0            1   \n",
       "\n",
       "  RUBRO_TRANSPORTES Y COMUNICACIONES  \\\n",
       "0                                  1   \n",
       "1                                  1   \n",
       "2                                  0   \n",
       "3                                  0   \n",
       "4                                  0   \n",
       "\n",
       "  RUBRO_VIVIENDA, CONSTRUCCIÓN Y SANEAMIENTO  TIPO_FORMATO_0 TIPO_FORMATO_FUR  \\\n",
       "0                                          0               0                0   \n",
       "1                                          0               0                0   \n",
       "2                                          1               0                0   \n",
       "3                                          0               0                0   \n",
       "4                                          0               0                0   \n",
       "\n",
       "  TIPO_FORMATO_IOARR  TIPO_FORMATO_PROYECTO DE INVERSION  \n",
       "0                  0                                   1  \n",
       "1                  1                                   0  \n",
       "2                  0                                   1  \n",
       "3                  0                                   1  \n",
       "4                  0                                   1  \n",
       "\n",
       "[5 rows x 108 columns]"
      ]
     },
     "execution_count": 28,
     "metadata": {},
     "output_type": "execute_result"
    }
   ],
   "source": [
    "df.head()"
   ]
  },
  {
   "cell_type": "code",
   "execution_count": 29,
   "metadata": {},
   "outputs": [],
   "source": [
    "base = df.loc[:,df.dtypes != 'object']"
   ]
  },
  {
   "cell_type": "code",
   "execution_count": 30,
   "metadata": {},
   "outputs": [],
   "source": [
    "exc =['NOBR_ID','CODCONSUCODE','NOBR_TIPEJE','NOBR_CODSNIP','CODIGO_UNICO',\n",
    "     'COD_UNIDAD_UEI','COD_SNIP','COD_TIPO_INVERSION','ID_PROYECTO','CDST_CODIGO','CDPT_CD_DPTO',\n",
    "     'BENEFICIARIO','DIFF_FECHA_INI_EJE_ET','DIFF_FECHA_NOW_ET', 'DIFF_FECHA_NOW_INI_EJE']"
   ]
  },
  {
   "cell_type": "code",
   "execution_count": 31,
   "metadata": {},
   "outputs": [],
   "source": [
    "var_montos = ['Monto actualizado S/_count', 'Monto actualizado S/_min','Monto actualizado S/_max','DIFF_MONTO', 'DIFF_PORC_MONTO']"
   ]
  },
  {
   "cell_type": "code",
   "execution_count": 32,
   "metadata": {},
   "outputs": [
    {
     "data": {
      "text/plain": [
       "Index(['NOBR_ID', 'CODCONSUCODE', 'NOBR_TIPEJE', 'NOBR_CODSNIP',\n",
       "       'NSNP_MONTOVERI', 'NSNP_MONTOAPR', 'CODIGO_UNICO', 'UNIDAD_OPMI',\n",
       "       'PIM_ANO_VIGENTE', 'DEV_ANO_VIGENTE', 'DEV_ACUMULADO', 'COD_UNIDAD_UEI',\n",
       "       'COSTO_ACTUALIZADO', 'MTO_VIABLE', 'CERTIFICADO_ANO_ACTUAL',\n",
       "       'GIRADO_ANO_ACTUAL', 'COMPROMETIDO_ANO_ACTUAL', 'MTO_PMI_1',\n",
       "       'MTO_PMI_2', 'MTO_PMI_3', 'MTO_PMI_4', 'MTO_CartFza', 'COD_SNIP',\n",
       "       'BENEFICIARIO', 'COD_TIPO_INVERSION', 'ID_PROYECTO', 'DIFF_MONTO',\n",
       "       'DIFF_PORC_MONTO', 'DIFF_FECHA_INI_EJE_ET', 'DIFF_FECHA_NOW_ET',\n",
       "       'DIFF_FECHA_NOW_INI_EJE', 'NCOR_LONGIT', 'NCOR_LATITU', 'NCOR_LONGI2',\n",
       "       'NCOR_LATIT2', 'CDPT_CD_DPTO', 'CDST_CODIGO', 'DOBA_FCHREP_count',\n",
       "       'NOBA_FISICO_PRO_min', 'NOBA_FISICO_PRO_max', 'NOBA_FISICO_REA_min',\n",
       "       'NOBA_FISICO_REA_max', 'NOBA_VALZDO_PRO_min', 'NOBA_VALZDO_PRO_max',\n",
       "       'NOBA_VALZDO_REA_min', 'NOBA_VALZDO_REA_max',\n",
       "       'Monto actualizado S/_count', 'Monto actualizado S/_min',\n",
       "       'Monto actualizado S/_max', 'CDPT_DPTO_CUSCO', 'CDPT_DPTO_LAMBAYEQUE',\n",
       "       'CDPT_DPTO_LIMA', 'CDPT_DPTO_LORETO', 'CDPT_DPTO_PIURA',\n",
       "       'COPA_DESCRI_Adm. Directa', 'COPA_DESCRI_Otros',\n",
       "       'COPA_DESCRI_Por Contrata', 'RUBRO_AGRICULTURA',\n",
       "       'RUBRO_EDUCACIÓN/CULTURA', 'RUBRO_OTRAS INFRAESTRUCTURAS',\n",
       "       'RUBRO_Otros', 'RUBRO_TRANSPORTES Y COMUNICACIONES',\n",
       "       'RUBRO_VIVIENDA, CONSTRUCCIÓN Y SANEAMIENTO', 'TIPO_FORMATO_0',\n",
       "       'TIPO_FORMATO_FUR', 'TIPO_FORMATO_IOARR',\n",
       "       'TIPO_FORMATO_PROYECTO DE INVERSION'],\n",
       "      dtype='object')"
      ]
     },
     "execution_count": 32,
     "metadata": {},
     "output_type": "execute_result"
    }
   ],
   "source": [
    "base.columns"
   ]
  },
  {
   "cell_type": "code",
   "execution_count": 33,
   "metadata": {},
   "outputs": [],
   "source": [
    "st_x = StandardScaler()"
   ]
  },
  {
   "cell_type": "code",
   "execution_count": 35,
   "metadata": {},
   "outputs": [],
   "source": [
    "X = base.drop(var_montos +exc , axis = 1) \n",
    "y = base.DIFF_PORC_MONTO "
   ]
  },
  {
   "cell_type": "code",
   "execution_count": 36,
   "metadata": {},
   "outputs": [],
   "source": [
    "X_train, X_test, y_train, y_test = train_test_split(X, y, test_size = 0.3, \n",
    "                                                    random_state = 0)"
   ]
  },
  {
   "cell_type": "code",
   "execution_count": 37,
   "metadata": {},
   "outputs": [],
   "source": [
    "xg_reg = xgb.XGBRegressor(objective ='reg:squarederror', eval_metric = 'mae' ,colsample_bytree = 0.9, learning_rate = 0.05,\n",
    "                max_depth = 2, alpha = 10, n_estimators = 1000)"
   ]
  },
  {
   "cell_type": "code",
   "execution_count": 38,
   "metadata": {},
   "outputs": [],
   "source": [
    "xg_reg.fit(X_train,y_train)\n",
    "\n",
    "y_pred = xg_reg.predict(X_train)\n",
    "y_pred_test = xg_reg.predict(X_test)"
   ]
  },
  {
   "cell_type": "code",
   "execution_count": null,
   "metadata": {},
   "outputs": [],
   "source": [
    "#regr = linear_model.LinearRegression()\n",
    "#regr.fit(X_train, y_train)\n",
    "#y_pred = regr.predict(X_train)\n",
    "\n",
    "#y_pred_test = regr.predict(X_test)"
   ]
  },
  {
   "cell_type": "code",
   "execution_count": 39,
   "metadata": {},
   "outputs": [
    {
     "name": "stdout",
     "output_type": "stream",
     "text": [
      "0.33428129424740416\n",
      "15.58814517525947\n"
     ]
    },
    {
     "data": {
      "text/plain": [
       "(None, None)"
      ]
     },
     "execution_count": 39,
     "metadata": {},
     "output_type": "execute_result"
    }
   ],
   "source": [
    "mse = mean_squared_error(y_test, y_pred_test)\n",
    "mae = mean_absolute_error(y_test, y_pred_test)\n",
    "rmse = math.sqrt(mse)\n",
    "\n",
    "print(mae) , print(rmse)"
   ]
  },
  {
   "cell_type": "code",
   "execution_count": 40,
   "metadata": {},
   "outputs": [
    {
     "name": "stdout",
     "output_type": "stream",
     "text": [
      "0.07921231557235786\n",
      "0.28609514066449376\n"
     ]
    },
    {
     "data": {
      "text/plain": [
       "(None, None)"
      ]
     },
     "execution_count": 40,
     "metadata": {},
     "output_type": "execute_result"
    }
   ],
   "source": [
    "mse = mean_squared_error(y_train, y_pred)\n",
    "mae = mean_absolute_error(y_train, y_pred)\n",
    "rmse = math.sqrt(mse)\n",
    "\n",
    "print(mae) , print(rmse)"
   ]
  },
  {
   "cell_type": "code",
   "execution_count": 41,
   "metadata": {},
   "outputs": [
    {
     "data": {
      "image/png": "[encoded data removed]",
      "text/plain": [
       "<Figure size 720x720 with 1 Axes>"
      ]
     },
     "metadata": {
      "needs_background": "light"
     },
     "output_type": "display_data"
    }
   ],
   "source": [
    "sorted_idx = xg_reg.feature_importances_.argsort()\n",
    "\n",
    "plt.figure(figsize=(10,10))\n",
    "\n",
    "plt.barh(X_train.columns[sorted_idx], xg_reg.feature_importances_[sorted_idx],)\n",
    "\n",
    "\n",
    "plt.show()"
   ]
  },
  {
   "cell_type": "code",
   "execution_count": 44,
   "metadata": {},
   "outputs": [],
   "source": [
    "y_tot = xg_reg.predict(X)"
   ]
  },
  {
   "cell_type": "code",
   "execution_count": null,
   "metadata": {},
   "outputs": [],
   "source": [
    "df[['CDPT_DPTO', 'CPRV_PROV', 'CDST_DISTRIT']]"
   ]
  },
  {
   "cell_type": "code",
   "execution_count": 87,
   "metadata": {},
   "outputs": [],
   "source": [
    "df['Estimacion_DIFF_PORC_MONTO'] = y_tot"
   ]
  },
  {
   "cell_type": "code",
   "execution_count": 88,
   "metadata": {},
   "outputs": [
    {
     "data": {
      "text/html": [
       "<div>\n",
       "<style scoped>\n",
       "    .dataframe tbody tr th:only-of-type {\n",
       "        vertical-align: middle;\n",
       "    }\n",
       "\n",
       "    .dataframe tbody tr th {\n",
       "        vertical-align: top;\n",
       "    }\n",
       "\n",
       "    .dataframe thead th {\n",
       "        text-align: right;\n",
       "    }\n",
       "</style>\n",
       "<table border=\"1\" class=\"dataframe\">\n",
       "  <thead>\n",
       "    <tr style=\"text-align: right;\">\n",
       "      <th></th>\n",
       "      <th>CODIGO_UNICO</th>\n",
       "      <th>Estimacion_DIFF_PORC_MONTO</th>\n",
       "    </tr>\n",
       "  </thead>\n",
       "  <tbody>\n",
       "    <tr>\n",
       "      <th>0</th>\n",
       "      <td>2192666</td>\n",
       "      <td>0.285904</td>\n",
       "    </tr>\n",
       "    <tr>\n",
       "      <th>1</th>\n",
       "      <td>2506945</td>\n",
       "      <td>-0.015085</td>\n",
       "    </tr>\n",
       "    <tr>\n",
       "      <th>2</th>\n",
       "      <td>2015456</td>\n",
       "      <td>0.109591</td>\n",
       "    </tr>\n",
       "    <tr>\n",
       "      <th>3</th>\n",
       "      <td>2016888</td>\n",
       "      <td>0.319125</td>\n",
       "    </tr>\n",
       "    <tr>\n",
       "      <th>4</th>\n",
       "      <td>2017024</td>\n",
       "      <td>0.891466</td>\n",
       "    </tr>\n",
       "    <tr>\n",
       "      <th>...</th>\n",
       "      <td>...</td>\n",
       "      <td>...</td>\n",
       "    </tr>\n",
       "    <tr>\n",
       "      <th>15087</th>\n",
       "      <td>2153632</td>\n",
       "      <td>0.124850</td>\n",
       "    </tr>\n",
       "    <tr>\n",
       "      <th>15088</th>\n",
       "      <td>2059625</td>\n",
       "      <td>0.118186</td>\n",
       "    </tr>\n",
       "    <tr>\n",
       "      <th>15089</th>\n",
       "      <td>2197067</td>\n",
       "      <td>0.119193</td>\n",
       "    </tr>\n",
       "    <tr>\n",
       "      <th>15090</th>\n",
       "      <td>2157027</td>\n",
       "      <td>0.091973</td>\n",
       "    </tr>\n",
       "    <tr>\n",
       "      <th>15091</th>\n",
       "      <td>2315785</td>\n",
       "      <td>0.103200</td>\n",
       "    </tr>\n",
       "  </tbody>\n",
       "</table>\n",
       "<p>15061 rows × 2 columns</p>\n",
       "</div>"
      ],
      "text/plain": [
       "       CODIGO_UNICO  Estimacion_DIFF_PORC_MONTO\n",
       "0           2192666                    0.285904\n",
       "1           2506945                   -0.015085\n",
       "2           2015456                    0.109591\n",
       "3           2016888                    0.319125\n",
       "4           2017024                    0.891466\n",
       "...             ...                         ...\n",
       "15087       2153632                    0.124850\n",
       "15088       2059625                    0.118186\n",
       "15089       2197067                    0.119193\n",
       "15090       2157027                    0.091973\n",
       "15091       2315785                    0.103200\n",
       "\n",
       "[15061 rows x 2 columns]"
      ]
     },
     "execution_count": 88,
     "metadata": {},
     "output_type": "execute_result"
    }
   ],
   "source": [
    "df[['CODIGO_UNICO','Estimacion_DIFF_PORC_MONTO']]"
   ]
  },
  {
   "cell_type": "code",
   "execution_count": 95,
   "metadata": {},
   "outputs": [],
   "source": [
    "df_f = pd.merge(df,df_cluster[['CODIGO_UNICO','cluster']], on ='CODIGO_UNICO', how = 'left')"
   ]
  },
  {
   "cell_type": "code",
   "execution_count": 96,
   "metadata": {},
   "outputs": [
    {
     "data": {
      "text/plain": [
       "((15061, 109), (15061, 110))"
      ]
     },
     "execution_count": 96,
     "metadata": {},
     "output_type": "execute_result"
    }
   ],
   "source": [
    "df.shape, df_f.shape"
   ]
  },
  {
   "cell_type": "code",
   "execution_count": 115,
   "metadata": {},
   "outputs": [],
   "source": [
    "df_f[['CODIGO_UNICO','DIFF_PORC_MONTO','Estimacion_DIFF_PORC_MONTO','cluster']].to_csv('Regresion_cluster.csv', index =None)"
   ]
  },
  {
   "cell_type": "code",
   "execution_count": null,
   "metadata": {},
   "outputs": [],
   "source": []
  }
 ],
 "metadata": {
  "kernelspec": {
   "display_name": "Python 3",
   "language": "python",
   "name": "python3"
  },
  "language_info": {
   "codemirror_mode": {
    "name": "ipython",
    "version": 3
   },
   "file_extension": ".py",
   "mimetype": "text/x-python",
   "name": "python",
   "nbconvert_exporter": "python",
   "pygments_lexer": "ipython3",
   "version": "3.8.3"
  }
 },
 "nbformat": 4,
 "nbformat_minor": 4
}
